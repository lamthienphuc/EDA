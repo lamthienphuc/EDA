{
 "cells": [
  {
   "cell_type": "markdown",
   "metadata": {},
   "source": [
    "## This notebook is based on another iteration of dataset that breaks down the animation genre in a more reliable manner.\n",
    "\n",
    "This made the animation genre into a more reliable dataset and it was soon included in the list of most prolific and profitable genres."
   ]
  },
  {
   "cell_type": "code",
   "execution_count": 1,
   "metadata": {},
   "outputs": [],
   "source": [
    "import pandas as pd\n",
    "import numpy as np\n",
    "import matplotlib.pyplot as plt\n",
    "from IPython.display import display\n",
    "import seaborn as sns\n",
    "sns.set(style = 'darkgrid')\n",
    "%matplotlib inline"
   ]
  },
  {
   "cell_type": "code",
   "execution_count": 2,
   "metadata": {},
   "outputs": [],
   "source": [
    "df = pd.read_csv('../data/profit_data.csv')\n",
    "\n",
    "pd.options.display.max_columns = None\n",
    "pd.options.display.max_rows = None"
   ]
  },
  {
   "cell_type": "code",
   "execution_count": 3,
   "metadata": {},
   "outputs": [],
   "source": [
    "# creating columns for revenue rations and foreign gross\n",
    "\n",
    "df['foreign_gross'] = df.worldwide_gross - df.domestic_gross\n",
    "df['rev2bud_dom'] = df.domestic_gross/df.production_budget\n",
    "df['rev2bud_for'] = df.foreign_gross/df.production_budget\n",
    "df['rev2bud_wld'] = df.worldwide_gross/df.production_budget"
   ]
  },
  {
   "cell_type": "code",
   "execution_count": 4,
   "metadata": {},
   "outputs": [],
   "source": [
    "# stripping the directors column and making primary director column\n",
    "\n",
    "directors = df.directors.str.split(',', expand = True)\n",
    "df['main_director'] = directors[0]\n",
    "df['rev2bud_int'] = df.worldwide_gross/df.production_budget\n",
    "df['popularity_z'] = df.popularity.apply(lambda x: (x-df.popularity.mean())/(df.popularity.std()))\n",
    "df['rating_z_IMDB'] = df.avg_rating_imdb.apply(lambda x: (x-df.avg_rating_imdb.mean())/(df.avg_rating_imdb.std()))\n"
   ]
  },
  {
   "cell_type": "code",
   "execution_count": 5,
   "metadata": {},
   "outputs": [
    {
     "data": {
      "text/plain": [
       "new_genre\n",
       "Action          269.421377\n",
       "Adventure       229.096579\n",
       "Animation       382.536625\n",
       "Biography        85.373158\n",
       "Comedy           81.381042\n",
       "Crime            65.659048\n",
       "Documentary      41.268000\n",
       "Drama            84.302857\n",
       "Family         1259.200000\n",
       "Fantasy          56.125000\n",
       "Horror           94.401563\n",
       "Mystery         237.663333\n",
       "Romance         126.930000\n",
       "Sci-Fi            8.990000\n",
       "Name: worldwide_gross, dtype: float64"
      ]
     },
     "execution_count": 5,
     "metadata": {},
     "output_type": "execute_result"
    }
   ],
   "source": [
    "#sort by the new column 'new_genre' and find the highest grossing genres\n",
    "\n",
    "df.groupby(['new_genre']).worldwide_gross.mean()"
   ]
  },
  {
   "cell_type": "markdown",
   "metadata": {},
   "source": [
    "##### The family category is just based off of one movie \"The Beauty and the Beast\". Not indicative of the genre"
   ]
  },
  {
   "cell_type": "code",
   "execution_count": 6,
   "metadata": {},
   "outputs": [
    {
     "data": {
      "text/plain": [
       "Action         385\n",
       "Comedy         240\n",
       "Drama          175\n",
       "Biography       95\n",
       "Animation       80\n",
       "Adventure       76\n",
       "Horror          64\n",
       "Crime           63\n",
       "Documentary      5\n",
       "Fantasy          4\n",
       "Mystery          3\n",
       "Sci-Fi           1\n",
       "Romance          1\n",
       "Family           1\n",
       "Name: new_genre, dtype: int64"
      ]
     },
     "execution_count": 6,
     "metadata": {},
     "output_type": "execute_result"
    }
   ],
   "source": [
    "# count the entries for each genre\n",
    "\n",
    "df['new_genre'].value_counts()"
   ]
  },
  {
   "cell_type": "code",
   "execution_count": 7,
   "metadata": {},
   "outputs": [],
   "source": [
    "horror_df = df[(df['primary_genre'] == 'Horror')]\n",
    "action_df = df[(df['primary_genre'] == 'Action')]\n",
    "drama_df = df[(df['primary_genre'] == 'Drama')]\n",
    "advent_df = df[df['primary_genre'] == 'Adventure']\n",
    "comedy_df = df[(df['primary_genre'] == 'Comedy')]\n",
    "bio_df = df[(df['primary_genre'] == 'Biography')]\n",
    "ani_df = df[(df['primary_genre'] == 'Animation')]"
   ]
  },
  {
   "cell_type": "code",
   "execution_count": 8,
   "metadata": {},
   "outputs": [],
   "source": [
    "dirdf = df[['new_genre','title', 'worldwide_gross', 'rev2bud_int', 'rev2bud_dom', 'domestic_gross', 'rating_z_IMDB', 'popularity_z', 'production_budget', 'main_director']]\n"
   ]
  },
  {
   "cell_type": "code",
   "execution_count": 9,
   "metadata": {},
   "outputs": [],
   "source": [
    "# Select top 7 genres with highest worldwide grossing\n",
    "top7 = dirdf.groupby('new_genre')['worldwide_gross', 'domestic_gross', 'production_budget']\\\n",
    ".mean().sort_values(by = 'worldwide_gross', ascending = False)[1:10]\n",
    "top7 = top7[(top7.index != 'Mystery') & ((top7.index != 'Romance'))]"
   ]
  },
  {
   "cell_type": "code",
   "execution_count": 10,
   "metadata": {},
   "outputs": [
    {
     "name": "stdout",
     "output_type": "stream",
     "text": [
      "           worldwide_gross  domestic_gross  production_budget\n",
      "new_genre                                                    \n",
      "Animation       382.536625      139.504875          97.687500\n",
      "Action          269.421377       98.334026          88.632727\n",
      "Adventure       229.096579       84.335395          75.843421\n",
      "Horror           94.401563       46.140313          13.138281\n",
      "Biography        85.373158       43.554105          25.586000\n",
      "Drama            84.302857       38.009829          24.454343\n",
      "Comedy           81.381042       45.310042          26.755083\n"
     ]
    }
   ],
   "source": [
    "#print(top7_subdf)\n",
    "print(top7)"
   ]
  },
  {
   "cell_type": "code",
   "execution_count": 11,
   "metadata": {},
   "outputs": [],
   "source": [
    "# For these movies, get average IMDB rating and TMDB popularity scores. \n",
    "top7_genres = top7.index\n",
    "top7_subdf = dirdf[dirdf.new_genre.isin(top7_genres)].groupby('new_genre')['rating_z_IMDB', 'popularity_z'].mean()\n",
    "# Merge datasets\n",
    "top7 = top7.join(top7_subdf)\n",
    "top7 = top7.reset_index()\n",
    "\n"
   ]
  },
  {
   "cell_type": "code",
   "execution_count": 12,
   "metadata": {},
   "outputs": [
    {
     "data": {
      "image/png": "[encoded data removed]",
      "text/plain": [
       "<Figure size 851.225x360 with 1 Axes>"
      ]
     },
     "metadata": {
      "needs_background": "light"
     },
     "output_type": "display_data"
    }
   ],
   "source": [
    "tmp = pd.melt(top7, id_vars=['new_genre'], value_vars=['worldwide_gross', 'domestic_gross', 'production_budget'])\n",
    "\n",
    "\n",
    "g = sns.catplot(x=\"new_genre\", y=\"value\", hue=\"variable\", data=tmp, kind=\"bar\", palette=\"muted\", aspect = 2.)\n",
    "g.set_xticklabels()\n",
    "g.set(title = \"Top 7 Genres with Highest Total Worldwide Grossing\",xlabel = '' ,ylabel = \"Millions of Dollars\")\n",
    "new_title = 'Legend'\n",
    "g._legend.set_title(new_title)\n",
    "# replace labels\n",
    "new_labels = ['Worldwide Gross', 'Domestic Gross','Production Budget']\n",
    "for t, l in zip(g._legend.texts, new_labels): t.set_text(l)\n",
    "\n",
    "\n"
   ]
  },
  {
   "cell_type": "code",
   "execution_count": 13,
   "metadata": {},
   "outputs": [
    {
     "data": {
      "text/html": [
       "<div>\n",
       "<style scoped>\n",
       "    .dataframe tbody tr th:only-of-type {\n",
       "        vertical-align: middle;\n",
       "    }\n",
       "\n",
       "    .dataframe tbody tr th {\n",
       "        vertical-align: top;\n",
       "    }\n",
       "\n",
       "    .dataframe thead th {\n",
       "        text-align: right;\n",
       "    }\n",
       "</style>\n",
       "<table border=\"1\" class=\"dataframe\">\n",
       "  <thead>\n",
       "    <tr style=\"text-align: right;\">\n",
       "      <th></th>\n",
       "      <th>Unnamed: 0</th>\n",
       "      <th>popularity</th>\n",
       "      <th>vote_count</th>\n",
       "      <th>id_x</th>\n",
       "      <th>adult</th>\n",
       "      <th>original_language</th>\n",
       "      <th>title</th>\n",
       "      <th>vote_average</th>\n",
       "      <th>overview</th>\n",
       "      <th>MPAA</th>\n",
       "      <th>year</th>\n",
       "      <th>month</th>\n",
       "      <th>studio</th>\n",
       "      <th>production_budget</th>\n",
       "      <th>domestic_gross</th>\n",
       "      <th>worldwide_gross</th>\n",
       "      <th>tconst</th>\n",
       "      <th>primary_title</th>\n",
       "      <th>original_title</th>\n",
       "      <th>start_year</th>\n",
       "      <th>runtime_minutes</th>\n",
       "      <th>genres</th>\n",
       "      <th>avg_rating_imdb</th>\n",
       "      <th>num_votes_imdb</th>\n",
       "      <th>actors</th>\n",
       "      <th>directors</th>\n",
       "      <th>producers</th>\n",
       "      <th>editors</th>\n",
       "      <th>writers</th>\n",
       "      <th>primary_genre</th>\n",
       "      <th>secondary_genre</th>\n",
       "      <th>new_genre</th>\n",
       "      <th>worldwide_gross_z</th>\n",
       "      <th>domestic_gross_z</th>\n",
       "      <th>foreign_gross</th>\n",
       "      <th>rev2bud_dom</th>\n",
       "      <th>rev2bud_for</th>\n",
       "      <th>rev2bud_wld</th>\n",
       "      <th>main_director</th>\n",
       "      <th>rev2bud_int</th>\n",
       "      <th>popularity_z</th>\n",
       "      <th>rating_z_IMDB</th>\n",
       "      <th>thrice</th>\n",
       "    </tr>\n",
       "  </thead>\n",
       "  <tbody>\n",
       "    <tr>\n",
       "      <th>1188</th>\n",
       "      <td>3421</td>\n",
       "      <td>15.931</td>\n",
       "      <td>389</td>\n",
       "      <td>523172</td>\n",
       "      <td>False</td>\n",
       "      <td>en</td>\n",
       "      <td>late night</td>\n",
       "      <td>6.6</td>\n",
       "      <td>A legendary late-night talk show host's world ...</td>\n",
       "      <td>NaN</td>\n",
       "      <td>2019</td>\n",
       "      <td>1</td>\n",
       "      <td>NaN</td>\n",
       "      <td>4.0</td>\n",
       "      <td>0.25</td>\n",
       "      <td>0.25</td>\n",
       "      <td>tt6107548</td>\n",
       "      <td>late night</td>\n",
       "      <td>Late Night</td>\n",
       "      <td>2019</td>\n",
       "      <td>102.0</td>\n",
       "      <td>Comedy,Drama</td>\n",
       "      <td>5.9</td>\n",
       "      <td>953</td>\n",
       "      <td>John Lithgow,Emma Thompson,Mindy Kaling,Hugh D...</td>\n",
       "      <td>Nisha Ganatra</td>\n",
       "      <td>Ben Browning,Jillian Apfelbaum,Howard Klein</td>\n",
       "      <td>NaN</td>\n",
       "      <td>NaN</td>\n",
       "      <td>Comedy</td>\n",
       "      <td>Drama</td>\n",
       "      <td>Comedy</td>\n",
       "      <td>-0.699446</td>\n",
       "      <td>-0.778820</td>\n",
       "      <td>0.00</td>\n",
       "      <td>0.062500</td>\n",
       "      <td>0.000000</td>\n",
       "      <td>0.062500</td>\n",
       "      <td>Nisha Ganatra</td>\n",
       "      <td>0.062500</td>\n",
       "      <td>-0.264416</td>\n",
       "      <td>-0.560189</td>\n",
       "      <td>False</td>\n",
       "    </tr>\n",
       "    <tr>\n",
       "      <th>1189</th>\n",
       "      <td>3428</td>\n",
       "      <td>13.840</td>\n",
       "      <td>252</td>\n",
       "      <td>524247</td>\n",
       "      <td>False</td>\n",
       "      <td>en</td>\n",
       "      <td>the intruder</td>\n",
       "      <td>6.3</td>\n",
       "      <td>A psychological thriller about a young married...</td>\n",
       "      <td>PG-13</td>\n",
       "      <td>2019</td>\n",
       "      <td>5</td>\n",
       "      <td>NaN</td>\n",
       "      <td>8.0</td>\n",
       "      <td>35.10</td>\n",
       "      <td>36.01</td>\n",
       "      <td>tt6722030</td>\n",
       "      <td>the intruder</td>\n",
       "      <td>The Intruder</td>\n",
       "      <td>2019</td>\n",
       "      <td>102.0</td>\n",
       "      <td>Drama,Horror,Mystery</td>\n",
       "      <td>5.5</td>\n",
       "      <td>1912</td>\n",
       "      <td>Dennis Quaid,Meagan Good,Alvina August,Joseph ...</td>\n",
       "      <td>Deon Taylor</td>\n",
       "      <td>Roxanne Avent,Brad Kaplan,Jonathan Schwartz</td>\n",
       "      <td>NaN</td>\n",
       "      <td>David Loughery</td>\n",
       "      <td>Drama</td>\n",
       "      <td>Horror</td>\n",
       "      <td>Drama</td>\n",
       "      <td>-0.554983</td>\n",
       "      <td>-0.388030</td>\n",
       "      <td>0.91</td>\n",
       "      <td>4.387500</td>\n",
       "      <td>0.113750</td>\n",
       "      <td>4.501250</td>\n",
       "      <td>Deon Taylor</td>\n",
       "      <td>4.501250</td>\n",
       "      <td>-0.518464</td>\n",
       "      <td>-0.984982</td>\n",
       "      <td>True</td>\n",
       "    </tr>\n",
       "    <tr>\n",
       "      <th>1190</th>\n",
       "      <td>3447</td>\n",
       "      <td>24.714</td>\n",
       "      <td>2910</td>\n",
       "      <td>527641</td>\n",
       "      <td>False</td>\n",
       "      <td>en</td>\n",
       "      <td>five feet apart</td>\n",
       "      <td>8.3</td>\n",
       "      <td>Seventeen-year-old Stella spends most of her t...</td>\n",
       "      <td>NaN</td>\n",
       "      <td>2019</td>\n",
       "      <td>3</td>\n",
       "      <td>NaN</td>\n",
       "      <td>7.0</td>\n",
       "      <td>45.73</td>\n",
       "      <td>80.50</td>\n",
       "      <td>tt6472976</td>\n",
       "      <td>five feet apart</td>\n",
       "      <td>Five Feet Apart</td>\n",
       "      <td>2019</td>\n",
       "      <td>116.0</td>\n",
       "      <td>Drama,Romance</td>\n",
       "      <td>7.2</td>\n",
       "      <td>10645</td>\n",
       "      <td>Moises Arias,Cole Sprouse,Haley Lu Richardson,...</td>\n",
       "      <td>Justin Baldoni</td>\n",
       "      <td>Cathy Schulman</td>\n",
       "      <td>NaN</td>\n",
       "      <td>Mikki Daughtry,Tobias Iaconis</td>\n",
       "      <td>Drama</td>\n",
       "      <td>Romance</td>\n",
       "      <td>Drama</td>\n",
       "      <td>-0.375253</td>\n",
       "      <td>-0.268831</td>\n",
       "      <td>34.77</td>\n",
       "      <td>6.532857</td>\n",
       "      <td>4.967143</td>\n",
       "      <td>11.500000</td>\n",
       "      <td>Justin Baldoni</td>\n",
       "      <td>11.500000</td>\n",
       "      <td>0.802682</td>\n",
       "      <td>0.820388</td>\n",
       "      <td>True</td>\n",
       "    </tr>\n",
       "    <tr>\n",
       "      <th>1191</th>\n",
       "      <td>3459</td>\n",
       "      <td>21.777</td>\n",
       "      <td>1607</td>\n",
       "      <td>531309</td>\n",
       "      <td>False</td>\n",
       "      <td>en</td>\n",
       "      <td>brightburn</td>\n",
       "      <td>6.0</td>\n",
       "      <td>What if a child from another world crash-lande...</td>\n",
       "      <td>R</td>\n",
       "      <td>2019</td>\n",
       "      <td>5</td>\n",
       "      <td>NaN</td>\n",
       "      <td>7.0</td>\n",
       "      <td>16.79</td>\n",
       "      <td>27.99</td>\n",
       "      <td>tt7752126</td>\n",
       "      <td>brightburn</td>\n",
       "      <td>Brightburn</td>\n",
       "      <td>2019</td>\n",
       "      <td>90.0</td>\n",
       "      <td>Horror,Sci-Fi</td>\n",
       "      <td>6.5</td>\n",
       "      <td>12515</td>\n",
       "      <td>David Denman,Elizabeth Banks,Jackson A. Dunn,A...</td>\n",
       "      <td>David Yarovesky</td>\n",
       "      <td>James Gunn,Kenneth Huang</td>\n",
       "      <td>NaN</td>\n",
       "      <td>Brian Gunn,Mark Gunn</td>\n",
       "      <td>Horror</td>\n",
       "      <td>Sci-Fi</td>\n",
       "      <td>Horror</td>\n",
       "      <td>-0.587382</td>\n",
       "      <td>-0.593349</td>\n",
       "      <td>11.20</td>\n",
       "      <td>2.398571</td>\n",
       "      <td>1.600000</td>\n",
       "      <td>3.998571</td>\n",
       "      <td>David Yarovesky</td>\n",
       "      <td>3.998571</td>\n",
       "      <td>0.445849</td>\n",
       "      <td>0.077000</td>\n",
       "      <td>True</td>\n",
       "    </tr>\n",
       "    <tr>\n",
       "      <th>1192</th>\n",
       "      <td>3466</td>\n",
       "      <td>12.070</td>\n",
       "      <td>588</td>\n",
       "      <td>532671</td>\n",
       "      <td>False</td>\n",
       "      <td>en</td>\n",
       "      <td>the prodigy</td>\n",
       "      <td>6.2</td>\n",
       "      <td>A mother concerned about her young son's distu...</td>\n",
       "      <td>R</td>\n",
       "      <td>2019</td>\n",
       "      <td>2</td>\n",
       "      <td>NaN</td>\n",
       "      <td>6.0</td>\n",
       "      <td>14.86</td>\n",
       "      <td>19.79</td>\n",
       "      <td>tt4504044</td>\n",
       "      <td>the prodigy</td>\n",
       "      <td>The Prodigy</td>\n",
       "      <td>2019</td>\n",
       "      <td>92.0</td>\n",
       "      <td>Horror,Thriller</td>\n",
       "      <td>5.9</td>\n",
       "      <td>11456</td>\n",
       "      <td>Colm Feore,Taylor Schilling,Jackson Robert Sco...</td>\n",
       "      <td>Nicholas McCarthy</td>\n",
       "      <td>Tripp Vinson</td>\n",
       "      <td>Tom Elkins</td>\n",
       "      <td>Jeff Buhler</td>\n",
       "      <td>Horror</td>\n",
       "      <td>Thriller</td>\n",
       "      <td>Horror</td>\n",
       "      <td>-0.620508</td>\n",
       "      <td>-0.614991</td>\n",
       "      <td>4.93</td>\n",
       "      <td>2.476667</td>\n",
       "      <td>0.821667</td>\n",
       "      <td>3.298333</td>\n",
       "      <td>Nicholas McCarthy</td>\n",
       "      <td>3.298333</td>\n",
       "      <td>-0.733512</td>\n",
       "      <td>-0.560189</td>\n",
       "      <td>True</td>\n",
       "    </tr>\n",
       "  </tbody>\n",
       "</table>\n",
       "</div>"
      ],
      "text/plain": [
       "      Unnamed: 0  popularity  vote_count    id_x  adult original_language  \\\n",
       "1188        3421      15.931         389  523172  False                en   \n",
       "1189        3428      13.840         252  524247  False                en   \n",
       "1190        3447      24.714        2910  527641  False                en   \n",
       "1191        3459      21.777        1607  531309  False                en   \n",
       "1192        3466      12.070         588  532671  False                en   \n",
       "\n",
       "                title  vote_average  \\\n",
       "1188       late night           6.6   \n",
       "1189     the intruder           6.3   \n",
       "1190  five feet apart           8.3   \n",
       "1191       brightburn           6.0   \n",
       "1192      the prodigy           6.2   \n",
       "\n",
       "                                               overview   MPAA  year  month  \\\n",
       "1188  A legendary late-night talk show host's world ...    NaN  2019      1   \n",
       "1189  A psychological thriller about a young married...  PG-13  2019      5   \n",
       "1190  Seventeen-year-old Stella spends most of her t...    NaN  2019      3   \n",
       "1191  What if a child from another world crash-lande...      R  2019      5   \n",
       "1192  A mother concerned about her young son's distu...      R  2019      2   \n",
       "\n",
       "     studio  production_budget  domestic_gross  worldwide_gross     tconst  \\\n",
       "1188    NaN                4.0            0.25             0.25  tt6107548   \n",
       "1189    NaN                8.0           35.10            36.01  tt6722030   \n",
       "1190    NaN                7.0           45.73            80.50  tt6472976   \n",
       "1191    NaN                7.0           16.79            27.99  tt7752126   \n",
       "1192    NaN                6.0           14.86            19.79  tt4504044   \n",
       "\n",
       "        primary_title   original_title  start_year  runtime_minutes  \\\n",
       "1188       late night       Late Night        2019            102.0   \n",
       "1189     the intruder     The Intruder        2019            102.0   \n",
       "1190  five feet apart  Five Feet Apart        2019            116.0   \n",
       "1191       brightburn       Brightburn        2019             90.0   \n",
       "1192      the prodigy      The Prodigy        2019             92.0   \n",
       "\n",
       "                    genres  avg_rating_imdb  num_votes_imdb  \\\n",
       "1188          Comedy,Drama              5.9             953   \n",
       "1189  Drama,Horror,Mystery              5.5            1912   \n",
       "1190         Drama,Romance              7.2           10645   \n",
       "1191         Horror,Sci-Fi              6.5           12515   \n",
       "1192       Horror,Thriller              5.9           11456   \n",
       "\n",
       "                                                 actors          directors  \\\n",
       "1188  John Lithgow,Emma Thompson,Mindy Kaling,Hugh D...      Nisha Ganatra   \n",
       "1189  Dennis Quaid,Meagan Good,Alvina August,Joseph ...        Deon Taylor   \n",
       "1190  Moises Arias,Cole Sprouse,Haley Lu Richardson,...     Justin Baldoni   \n",
       "1191  David Denman,Elizabeth Banks,Jackson A. Dunn,A...    David Yarovesky   \n",
       "1192  Colm Feore,Taylor Schilling,Jackson Robert Sco...  Nicholas McCarthy   \n",
       "\n",
       "                                        producers     editors  \\\n",
       "1188  Ben Browning,Jillian Apfelbaum,Howard Klein         NaN   \n",
       "1189  Roxanne Avent,Brad Kaplan,Jonathan Schwartz         NaN   \n",
       "1190                               Cathy Schulman         NaN   \n",
       "1191                     James Gunn,Kenneth Huang         NaN   \n",
       "1192                                 Tripp Vinson  Tom Elkins   \n",
       "\n",
       "                            writers primary_genre secondary_genre new_genre  \\\n",
       "1188                            NaN        Comedy           Drama    Comedy   \n",
       "1189                 David Loughery         Drama          Horror     Drama   \n",
       "1190  Mikki Daughtry,Tobias Iaconis         Drama         Romance     Drama   \n",
       "1191           Brian Gunn,Mark Gunn        Horror          Sci-Fi    Horror   \n",
       "1192                    Jeff Buhler        Horror        Thriller    Horror   \n",
       "\n",
       "      worldwide_gross_z  domestic_gross_z  foreign_gross  rev2bud_dom  \\\n",
       "1188          -0.699446         -0.778820           0.00     0.062500   \n",
       "1189          -0.554983         -0.388030           0.91     4.387500   \n",
       "1190          -0.375253         -0.268831          34.77     6.532857   \n",
       "1191          -0.587382         -0.593349          11.20     2.398571   \n",
       "1192          -0.620508         -0.614991           4.93     2.476667   \n",
       "\n",
       "      rev2bud_for  rev2bud_wld      main_director  rev2bud_int  popularity_z  \\\n",
       "1188     0.000000     0.062500      Nisha Ganatra     0.062500     -0.264416   \n",
       "1189     0.113750     4.501250        Deon Taylor     4.501250     -0.518464   \n",
       "1190     4.967143    11.500000     Justin Baldoni    11.500000      0.802682   \n",
       "1191     1.600000     3.998571    David Yarovesky     3.998571      0.445849   \n",
       "1192     0.821667     3.298333  Nicholas McCarthy     3.298333     -0.733512   \n",
       "\n",
       "      rating_z_IMDB  thrice  \n",
       "1188      -0.560189   False  \n",
       "1189      -0.984982    True  \n",
       "1190       0.820388    True  \n",
       "1191       0.077000    True  \n",
       "1192      -0.560189    True  "
      ]
     },
     "execution_count": 13,
     "metadata": {},
     "output_type": "execute_result"
    }
   ],
   "source": [
    "df['thrice'] = df['worldwide_gross'] >= 3*df.production_budget\n",
    "df.tail()"
   ]
  },
  {
   "cell_type": "code",
   "execution_count": 99,
   "metadata": {},
   "outputs": [],
   "source": [
    "thrice_df = df.groupby(['new_genre']).thrice.value_counts(normalize = True)"
   ]
  },
  {
   "cell_type": "code",
   "execution_count": 137,
   "metadata": {},
   "outputs": [],
   "source": [
    "df['dom_twice'] = df['domestic_gross'] >= 2*df.production_budget\n",
    "dom_twice_df = df.groupby(['new_genre']).dom_twice.value_counts(normalize = True)"
   ]
  },
  {
   "cell_type": "code",
   "execution_count": 139,
   "metadata": {},
   "outputs": [],
   "source": [
    "dom_action_2 = dom_twice_df.loc['Action'][True]\n",
    "dom_advent_2 = dom_twice_df.loc['Adventure'][True]\n",
    "dom_ani_2 = dom_twice_df.loc['Animation'][True]\n",
    "dom_bio_2 = dom_twice_df.loc['Biography'][True]\n",
    "dom_comedy_2 = dom_twice_df.loc['Comedy'][True]\n",
    "dom_drama_2 = dom_twice_df.loc['Drama'][True]\n",
    "dom_horror_2 = dom_twice_df.loc['Horror'][True]\n",
    "dom_ls_2 = [dom_action_2, dom_advent_2, dom_ani_2,dom_bio_2,dom_comedy_2,dom_drama_2,dom_horror_2]"
   ]
  },
  {
   "cell_type": "code",
   "execution_count": 140,
   "metadata": {},
   "outputs": [
    {
     "data": {
      "image/png": "[encoded data removed]",
      "text/plain": [
       "<Figure size 432x288 with 1 Axes>"
      ]
     },
     "metadata": {
      "needs_background": "light"
     },
     "output_type": "display_data"
    }
   ],
   "source": [
    "Y = dom_ls_2\n",
    "X = ['Action','Adventure','Animation','Biography','Comedy','Drama','Horror']\n",
    "\n",
    "sns.barplot(X, Y)\n",
    "plt.title(\"Genres With Domestic Gross Twice the Production Budget\")\n",
    "plt.ylabel(\"Percentage (%)\")\n",
    "plt.xticks(rotation = 90)\n",
    "plt.savefig('three_time_gross.png')\n",
    "plt.show()"
   ]
  },
  {
   "cell_type": "code",
   "execution_count": null,
   "metadata": {},
   "outputs": [],
   "source": [
    "thrice_df"
   ]
  },
  {
   "cell_type": "code",
   "execution_count": 132,
   "metadata": {},
   "outputs": [],
   "source": [
    "action_3 = thrice_df.loc['Action'][True]\n",
    "advent_3 = thrice_df.loc['Adventure'][True]\n",
    "ani_3 = thrice_df.loc['Animation'][True]\n",
    "bio_3 = thrice_df.loc['Biography'][True]\n",
    "comedy_3 = thrice_df.loc['Comedy'][True]\n",
    "drama_3 = thrice_df.loc['Drama'][True]\n",
    "horror_3 = thrice_df.loc['Horror'][True]\n",
    "ls = [action_3, advent_3, ani_3,bio_3,comedy_3,drama_3,horror_3]"
   ]
  },
  {
   "cell_type": "code",
   "execution_count": 133,
   "metadata": {},
   "outputs": [],
   "source": [
    "dom_action_3 = dom_thrice_df.loc['Action'][True]\n",
    "dom_advent_3 = dom_thrice_df.loc['Adventure'][True]\n",
    "dom_ani_3 = dom_thrice_df.loc['Animation'][True]\n",
    "dom_bio_3 = dom_thrice_df.loc['Biography'][True]\n",
    "dom_comedy_3 = dom_thrice_df.loc['Comedy'][True]\n",
    "dom_drama_3 = dom_thrice_df.loc['Drama'][True]\n",
    "dom_horror_3 = dom_thrice_df.loc['Horror'][True]\n",
    "dom_ls = [dom_action_3, dom_advent_3, dom_ani_3,dom_bio_3,dom_comedy_3,dom_drama_3,dom_horror_3]"
   ]
  },
  {
   "cell_type": "code",
   "execution_count": 134,
   "metadata": {},
   "outputs": [
    {
     "data": {
      "image/png": "[encoded data removed]",
      "text/plain": [
       "<Figure size 432x288 with 1 Axes>"
      ]
     },
     "metadata": {
      "needs_background": "light"
     },
     "output_type": "display_data"
    }
   ],
   "source": [
    "Y = dom_ls\n",
    "X = ['Action','Adventure','Animation','Biography','Comedy','Drama','Horror']\n",
    "\n",
    "sns.barplot(X, Y)\n",
    "plt.title(\"Genres With Domestic Gross Three Times Production Budget\")\n",
    "plt.ylabel(\"Percentage (%)\")\n",
    "plt.xticks(rotation = 90)\n",
    "plt.savefig('three_time_gross.png')\n",
    "plt.show()\n"
   ]
  },
  {
   "cell_type": "markdown",
   "metadata": {},
   "source": [
    "### See if there is a large gape with Action worldwide if we raise the bar in terms of worldwide gross vs production budget\n",
    "\n",
    "First is 4x production budget"
   ]
  },
  {
   "cell_type": "code",
   "execution_count": 18,
   "metadata": {},
   "outputs": [],
   "source": [
    "df['four_times']  = df['worldwide_gross'] >= 4 * df.production_budget"
   ]
  },
  {
   "cell_type": "code",
   "execution_count": 20,
   "metadata": {},
   "outputs": [],
   "source": [
    "four_df = df.groupby(['new_genre']).four_times.value_counts(normalize = True)"
   ]
  },
  {
   "cell_type": "code",
   "execution_count": 23,
   "metadata": {},
   "outputs": [],
   "source": [
    "action_4 = four_df.loc['Action'][True]\n",
    "advent_4 = four_df.loc['Adventure'][True]\n",
    "ani_4 = four_df.loc['Animation'][True]\n",
    "bio_4 = four_df.loc['Biography'][True]\n",
    "comedy_4 = four_df.loc['Comedy'][True]\n",
    "drama_4 = four_df.loc['Drama'][True]\n",
    "horror_4 = four_df.loc['Horror'][True]\n",
    "ls_4_wld = [action_4, advent_4, ani_4,bio_4,comedy_4,drama_4,horror_4]"
   ]
  },
  {
   "cell_type": "code",
   "execution_count": 31,
   "metadata": {},
   "outputs": [
    {
     "data": {
      "image/png": "[encoded data removed]",
      "text/plain": [
       "<Figure size 432x288 with 1 Axes>"
      ]
     },
     "metadata": {
      "needs_background": "light"
     },
     "output_type": "display_data"
    }
   ],
   "source": [
    "Y = ls_4_wld\n",
    "X = ['Action','Adventure','Animation','Biography','Comedy','Drama','Horror']\n",
    "\n",
    "sns.barplot(X, Y)\n",
    "plt.title(\"Genres With Worldwide Gross Four Times Production Budget\")\n",
    "plt.ylabel(\"Percentage (%)\")\n",
    "plt.xticks(rotation = 90)\n",
    "plt.tight_layout()\n",
    "plt.savefig(\"four_x_wld_gross.png\")\n",
    "plt.show()\n"
   ]
  },
  {
   "cell_type": "markdown",
   "metadata": {},
   "source": [
    "####\n",
    "Next is 5x"
   ]
  },
  {
   "cell_type": "code",
   "execution_count": 25,
   "metadata": {},
   "outputs": [],
   "source": [
    "df['five_times']  = df['worldwide_gross'] >= 5 * df.production_budget"
   ]
  },
  {
   "cell_type": "code",
   "execution_count": 26,
   "metadata": {},
   "outputs": [],
   "source": [
    "five_df = df.groupby(['new_genre']).five_times.value_counts(normalize = True)"
   ]
  },
  {
   "cell_type": "code",
   "execution_count": 27,
   "metadata": {},
   "outputs": [],
   "source": [
    "action_5 = five_df.loc['Action'][True]\n",
    "advent_5 = five_df.loc['Adventure'][True]\n",
    "ani_5 = five_df.loc['Animation'][True]\n",
    "bio_5 = five_df.loc['Biography'][True]\n",
    "comedy_5 = five_df.loc['Comedy'][True]\n",
    "drama_5 = five_df.loc['Drama'][True]\n",
    "horror_5 = five_df.loc['Horror'][True]\n",
    "ls_5_wld = [action_5, advent_5, ani_5,bio_5,comedy_5,drama_5,horror_5]"
   ]
  },
  {
   "cell_type": "code",
   "execution_count": 29,
   "metadata": {},
   "outputs": [
    {
     "data": {
      "text/plain": [
       "0.2375"
      ]
     },
     "execution_count": 29,
     "metadata": {},
     "output_type": "execute_result"
    }
   ],
   "source": [
    "ani_5"
   ]
  },
  {
   "cell_type": "code",
   "execution_count": 28,
   "metadata": {},
   "outputs": [
    {
     "data": {
      "image/png": "[encoded data removed]",
      "text/plain": [
       "<Figure size 432x288 with 1 Axes>"
      ]
     },
     "metadata": {
      "needs_background": "light"
     },
     "output_type": "display_data"
    }
   ],
   "source": [
    "Y = ls_5_wld\n",
    "X = ['Action','Adventure','Animation','Biography','Comedy','Drama','Horror']\n",
    "\n",
    "sns.barplot(X, Y)\n",
    "plt.title(\"Genres With Worldwide Gross Five Times Production Budget\")\n",
    "plt.ylabel(\"Percentage (%)\")\n",
    "plt.xticks(rotation = 90)\n",
    "\n",
    "plt.show()"
   ]
  },
  {
   "cell_type": "code",
   "execution_count": null,
   "metadata": {},
   "outputs": [],
   "source": []
  },
  {
   "cell_type": "code",
   "execution_count": null,
   "metadata": {},
   "outputs": [],
   "source": []
  },
  {
   "cell_type": "code",
   "execution_count": 125,
   "metadata": {},
   "outputs": [
    {
     "data": {
      "image/png": "[encoded data removed]",
      "text/plain": [
       "<Figure size 432x288 with 1 Axes>"
      ]
     },
     "metadata": {
      "needs_background": "light"
     },
     "output_type": "display_data"
    }
   ],
   "source": [
    "Y = ls\n",
    "X = ['Action','Adventure','Animation','Biography','Comedy','Drama','Horror']\n",
    "\n",
    "sns.barplot(X, Y)\n",
    "plt.title(\"Genres With Worldwide Gross Three Times Production Budget\")\n",
    "plt.ylabel(\"Percentage (%)\")\n",
    "plt.xticks(rotation = 90)\n",
    "plt.savefig('three_time_gross.png')\n",
    "plt.show()\n",
    "\n",
    "#fig_dims = (12, 6)\n",
    "#fig, ax = plt.subplots(figsize=fig_dims)\n",
    "#sns.barplot(x = \"index\", y = \"ls\", ax=ax, data=df)"
   ]
  },
  {
   "cell_type": "code",
   "execution_count": 69,
   "metadata": {},
   "outputs": [],
   "source": []
  },
  {
   "cell_type": "code",
   "execution_count": 97,
   "metadata": {},
   "outputs": [
    {
     "data": {
      "image/png": "[encoded data removed]",
      "text/plain": [
       "<Figure size 864x576 with 1 Axes>"
      ]
     },
     "metadata": {
      "needs_background": "light"
     },
     "output_type": "display_data"
    }
   ],
   "source": [
    "\n",
    "y1 = horror_df.groupby(['year'])['rev2bud_wld'].mean()\n",
    "x1 = y1.index\n",
    "\n",
    "y2 = drama_df.groupby(['year'])['rev2bud_wld'].mean()\n",
    "x2 = y2.index\n",
    "\n",
    "y3 = action_df.groupby(['year'])['rev2bud_wld'].mean()\n",
    "x3 = y3.index\n",
    "\n",
    "y4 = advent_df.groupby(['year'])['rev2bud_wld'].mean()\n",
    "x4 = y4.index\n",
    "\n",
    "y5 = comedy_df.groupby(['year'])['rev2bud_wld'].mean()\n",
    "x5 = y5.index\n",
    "plt.figure(figsize = (12,8))\n",
    "\n",
    "plt.plot(x1, y1, 'r', label = 'Horror') # plotting Horror separately \n",
    "plt.plot(x2, y2, 'b', label = 'Drama') # plotting Drama separately \n",
    "plt.plot(x3, y3, 'g', label = 'Action') # plotting Action separately \n",
    "plt.plot(x4, y4, 'k', label = 'Adventure') # plotting adventure separately \n",
    "plt.plot(x5, y5, 'm', label = 'Comedy') # plotting comedy separately \n",
    "\n",
    "\n",
    "plt.legend()\n",
    "\n",
    "plt.title('Ratio of Revenue vs Budget (World Wide Gross)', fontsize = 14)\n",
    "plt.ylabel('Revenue / Budget', fontsize = 13)\n",
    "plt.xlabel('Year Release', fontsize = 13)\n",
    "plt.show()"
   ]
  },
  {
   "cell_type": "markdown",
   "metadata": {},
   "source": [
    "### Make a bar plot for the rev2bud by genre chart"
   ]
  },
  {
   "cell_type": "code",
   "execution_count": null,
   "metadata": {},
   "outputs": [],
   "source": [
    "revwld = df.groupby(['new_genre'])['rev2bud_wld'].mean()"
   ]
  },
  {
   "cell_type": "code",
   "execution_count": 149,
   "metadata": {},
   "outputs": [],
   "source": [
    "dom_ls_2 = [revwld['Action'], revwld['Adventure'], revwld['Animation'],revwld['Biography'],revwld['Comedy'],revwld['Drama'],revwld['Horror']]"
   ]
  },
  {
   "cell_type": "code",
   "execution_count": 160,
   "metadata": {},
   "outputs": [
    {
     "data": {
      "image/png": "[encoded data removed]",
      "text/plain": [
       "<Figure size 432x288 with 1 Axes>"
      ]
     },
     "metadata": {
      "needs_background": "light"
     },
     "output_type": "display_data"
    }
   ],
   "source": [
    "Y = dom_ls_2\n",
    "X = ['Action','Adventure','Animation','Biography','Comedy','Drama','Horror']\n",
    "\n",
    "sns.barplot(X, Y)\n",
    "plt.title(\"Top 7 Genres Revenue:Budget Ratio (2010 - 2019)\")\n",
    "plt.ylabel(\"Revenue:Budget Ratio\")\n",
    "plt.xticks(rotation = 90)\n",
    "plt.savefig('three_time_gross.png')\n",
    "plt.show()"
   ]
  },
  {
   "cell_type": "markdown",
   "metadata": {},
   "source": [
    "#### The overwhelming majority of animated movies are childrens movies"
   ]
  },
  {
   "cell_type": "code",
   "execution_count": 163,
   "metadata": {},
   "outputs": [
    {
     "data": {
      "text/plain": [
       "PG    65\n",
       "G      9\n",
       "R      2\n",
       "Name: MPAA, dtype: int64"
      ]
     },
     "execution_count": 163,
     "metadata": {},
     "output_type": "execute_result"
    }
   ],
   "source": [
    "df[df['new_genre'] == 'Animation']['MPAA'].value_counts()"
   ]
  },
  {
   "cell_type": "markdown",
   "metadata": {},
   "source": [
    "### Worldwide Gross with Animated Movies being included with top movies"
   ]
  },
  {
   "cell_type": "code",
   "execution_count": 255,
   "metadata": {},
   "outputs": [],
   "source": [
    "dat = df[df.new_genre.apply(lambda x: x in ['Action', 'Comedy', 'Drama', 'Adventure', 'Biography', 'Horror', 'Animation'])]"
   ]
  },
  {
   "cell_type": "code",
   "execution_count": 260,
   "metadata": {},
   "outputs": [
    {
     "data": {
      "image/png": "[encoded data removed]",
      "text/plain": [
       "<Figure size 720x360 with 1 Axes>"
      ]
     },
     "metadata": {
      "needs_background": "light"
     },
     "output_type": "display_data"
    }
   ],
   "source": [
    "g = sns.catplot(x=\"new_genre\", y=\"worldwide_gross\", data=dat, kind = 'box', aspect = 2)\n",
    "g.set(title = \"Worldwide Gross by Genre\", xlabel = \"\", ylabel = \"Worldwide Gross\")\n",
    "\n",
    "plt.show()"
   ]
  },
  {
   "cell_type": "code",
   "execution_count": null,
   "metadata": {},
   "outputs": [],
   "source": []
  }
 ],
 "metadata": {
  "kernelspec": {
   "display_name": "Python 3",
   "language": "python",
   "name": "python3"
  },
  "language_info": {
   "codemirror_mode": {
    "name": "ipython",
    "version": 3
   },
   "file_extension": ".py",
   "mimetype": "text/x-python",
   "name": "python",
   "nbconvert_exporter": "python",
   "pygments_lexer": "ipython3",
   "version": "3.7.5"
  }
 },
 "nbformat": 4,
 "nbformat_minor": 4
}
